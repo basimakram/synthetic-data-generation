{
  "cells": [
    {
      "cell_type": "markdown",
      "metadata": {
        "id": "view-in-github",
        "colab_type": "text"
      },
      "source": [
        "<a href=\"https://colab.research.google.com/github/basimakram/synthetic-data-generation/blob/main/generate_servicenow_incident_data_with_gemini.ipynb\" target=\"_parent\"><img src=\"https://colab.research.google.com/assets/colab-badge.svg\" alt=\"Open In Colab\"/></a>"
      ]
    },
    {
      "cell_type": "markdown",
      "metadata": {
        "id": "EpehVuolOkkM"
      },
      "source": [
        "# ServiceNow Incident Generator with Gemini AI\n",
        "\n",
        "This notebook automatically generates AWS service incident tickets using Google's Gemini AI and creates them in ServiceNow. Adjust the prompt to make it more realisitic\n"
      ]
    },
    {
      "cell_type": "markdown",
      "metadata": {
        "id": "M6ryWWlFOkkO"
      },
      "source": [
        "## 1. Setup and Install Required Packages"
      ]
    },
    {
      "cell_type": "code",
      "execution_count": 1,
      "metadata": {
        "colab": {
          "base_uri": "https://localhost:8080/",
          "height": 1000
        },
        "id": "TPhr_eTQOkkO",
        "outputId": "fd63292e-5559-4ad6-97ce-ea58584bcb93"
      },
      "outputs": [
        {
          "output_type": "stream",
          "name": "stdout",
          "text": [
            "Requirement already satisfied: google-cloud-aiplatform in /usr/local/lib/python3.11/dist-packages (1.102.0)\n",
            "Requirement already satisfied: requests in /usr/local/lib/python3.11/dist-packages (2.32.3)\n",
            "Collecting vertexai\n",
            "  Downloading vertexai-1.71.1-py3-none-any.whl.metadata (10 kB)\n",
            "Requirement already satisfied: google-api-core!=2.0.*,!=2.1.*,!=2.2.*,!=2.3.*,!=2.4.*,!=2.5.*,!=2.6.*,!=2.7.*,<3.0.0,>=1.34.1 in /usr/local/lib/python3.11/dist-packages (from google-api-core[grpc]!=2.0.*,!=2.1.*,!=2.2.*,!=2.3.*,!=2.4.*,!=2.5.*,!=2.6.*,!=2.7.*,<3.0.0,>=1.34.1->google-cloud-aiplatform) (2.25.1)\n",
            "Requirement already satisfied: google-auth<3.0.0,>=2.14.1 in /usr/local/lib/python3.11/dist-packages (from google-cloud-aiplatform) (2.38.0)\n",
            "Requirement already satisfied: proto-plus<2.0.0,>=1.22.3 in /usr/local/lib/python3.11/dist-packages (from google-cloud-aiplatform) (1.26.1)\n",
            "Requirement already satisfied: protobuf!=4.21.0,!=4.21.1,!=4.21.2,!=4.21.3,!=4.21.4,!=4.21.5,<7.0.0,>=3.20.2 in /usr/local/lib/python3.11/dist-packages (from google-cloud-aiplatform) (5.29.5)\n",
            "Requirement already satisfied: packaging>=14.3 in /usr/local/lib/python3.11/dist-packages (from google-cloud-aiplatform) (24.2)\n",
            "Requirement already satisfied: google-cloud-storage<3.0.0,>=1.32.0 in /usr/local/lib/python3.11/dist-packages (from google-cloud-aiplatform) (2.19.0)\n",
            "Requirement already satisfied: google-cloud-bigquery!=3.20.0,<4.0.0,>=1.15.0 in /usr/local/lib/python3.11/dist-packages (from google-cloud-aiplatform) (3.34.0)\n",
            "Requirement already satisfied: google-cloud-resource-manager<3.0.0,>=1.3.3 in /usr/local/lib/python3.11/dist-packages (from google-cloud-aiplatform) (1.14.2)\n",
            "Requirement already satisfied: shapely<3.0.0 in /usr/local/lib/python3.11/dist-packages (from google-cloud-aiplatform) (2.1.1)\n",
            "Requirement already satisfied: google-genai<2.0.0,>=1.0.0 in /usr/local/lib/python3.11/dist-packages (from google-cloud-aiplatform) (1.25.0)\n",
            "Requirement already satisfied: pydantic<3 in /usr/local/lib/python3.11/dist-packages (from google-cloud-aiplatform) (2.11.7)\n",
            "Requirement already satisfied: typing_extensions in /usr/local/lib/python3.11/dist-packages (from google-cloud-aiplatform) (4.14.1)\n",
            "Requirement already satisfied: docstring_parser<1 in /usr/local/lib/python3.11/dist-packages (from google-cloud-aiplatform) (0.16)\n",
            "Requirement already satisfied: charset-normalizer<4,>=2 in /usr/local/lib/python3.11/dist-packages (from requests) (3.4.2)\n",
            "Requirement already satisfied: idna<4,>=2.5 in /usr/local/lib/python3.11/dist-packages (from requests) (3.10)\n",
            "Requirement already satisfied: urllib3<3,>=1.21.1 in /usr/local/lib/python3.11/dist-packages (from requests) (2.4.0)\n",
            "Requirement already satisfied: certifi>=2017.4.17 in /usr/local/lib/python3.11/dist-packages (from requests) (2025.7.9)\n",
            "Collecting google-cloud-aiplatform\n",
            "  Downloading google_cloud_aiplatform-1.71.1-py2.py3-none-any.whl.metadata (32 kB)\n",
            "\u001b[33mWARNING: google-cloud-aiplatform 1.71.1 does not provide the extra 'all'\u001b[0m\u001b[33m\n",
            "\u001b[0mRequirement already satisfied: googleapis-common-protos<2.0.0,>=1.56.2 in /usr/local/lib/python3.11/dist-packages (from google-api-core!=2.0.*,!=2.1.*,!=2.2.*,!=2.3.*,!=2.4.*,!=2.5.*,!=2.6.*,!=2.7.*,<3.0.0,>=1.34.1->google-api-core[grpc]!=2.0.*,!=2.1.*,!=2.2.*,!=2.3.*,!=2.4.*,!=2.5.*,!=2.6.*,!=2.7.*,<3.0.0,>=1.34.1->google-cloud-aiplatform) (1.70.0)\n",
            "Requirement already satisfied: grpcio<2.0.0,>=1.33.2 in /usr/local/lib/python3.11/dist-packages (from google-api-core[grpc]!=2.0.*,!=2.1.*,!=2.2.*,!=2.3.*,!=2.4.*,!=2.5.*,!=2.6.*,!=2.7.*,<3.0.0,>=1.34.1->google-cloud-aiplatform) (1.73.1)\n",
            "Requirement already satisfied: grpcio-status<2.0.0,>=1.33.2 in /usr/local/lib/python3.11/dist-packages (from google-api-core[grpc]!=2.0.*,!=2.1.*,!=2.2.*,!=2.3.*,!=2.4.*,!=2.5.*,!=2.6.*,!=2.7.*,<3.0.0,>=1.34.1->google-cloud-aiplatform) (1.71.2)\n",
            "Requirement already satisfied: cachetools<6.0,>=2.0.0 in /usr/local/lib/python3.11/dist-packages (from google-auth<3.0.0,>=2.14.1->google-cloud-aiplatform) (5.5.2)\n",
            "Requirement already satisfied: pyasn1-modules>=0.2.1 in /usr/local/lib/python3.11/dist-packages (from google-auth<3.0.0,>=2.14.1->google-cloud-aiplatform) (0.4.2)\n",
            "Requirement already satisfied: rsa<5,>=3.1.4 in /usr/local/lib/python3.11/dist-packages (from google-auth<3.0.0,>=2.14.1->google-cloud-aiplatform) (4.9.1)\n",
            "Requirement already satisfied: google-cloud-core<3.0.0,>=2.4.1 in /usr/local/lib/python3.11/dist-packages (from google-cloud-bigquery!=3.20.0,<4.0.0,>=1.15.0->google-cloud-aiplatform) (2.4.3)\n",
            "Requirement already satisfied: google-resumable-media<3.0.0,>=2.0.0 in /usr/local/lib/python3.11/dist-packages (from google-cloud-bigquery!=3.20.0,<4.0.0,>=1.15.0->google-cloud-aiplatform) (2.7.2)\n",
            "Requirement already satisfied: python-dateutil<3.0.0,>=2.8.2 in /usr/local/lib/python3.11/dist-packages (from google-cloud-bigquery!=3.20.0,<4.0.0,>=1.15.0->google-cloud-aiplatform) (2.9.0.post0)\n",
            "Requirement already satisfied: grpc-google-iam-v1<1.0.0,>=0.14.0 in /usr/local/lib/python3.11/dist-packages (from google-cloud-resource-manager<3.0.0,>=1.3.3->google-cloud-aiplatform) (0.14.2)\n",
            "Requirement already satisfied: google-crc32c<2.0dev,>=1.0 in /usr/local/lib/python3.11/dist-packages (from google-cloud-storage<3.0.0,>=1.32.0->google-cloud-aiplatform) (1.7.1)\n",
            "Requirement already satisfied: annotated-types>=0.6.0 in /usr/local/lib/python3.11/dist-packages (from pydantic<3->google-cloud-aiplatform) (0.7.0)\n",
            "Requirement already satisfied: pydantic-core==2.33.2 in /usr/local/lib/python3.11/dist-packages (from pydantic<3->google-cloud-aiplatform) (2.33.2)\n",
            "Requirement already satisfied: typing-inspection>=0.4.0 in /usr/local/lib/python3.11/dist-packages (from pydantic<3->google-cloud-aiplatform) (0.4.1)\n",
            "Requirement already satisfied: numpy>=1.21 in /usr/local/lib/python3.11/dist-packages (from shapely<3.0.0->google-cloud-aiplatform) (2.0.2)\n",
            "Requirement already satisfied: pyasn1<0.7.0,>=0.6.1 in /usr/local/lib/python3.11/dist-packages (from pyasn1-modules>=0.2.1->google-auth<3.0.0,>=2.14.1->google-cloud-aiplatform) (0.6.1)\n",
            "Requirement already satisfied: six>=1.5 in /usr/local/lib/python3.11/dist-packages (from python-dateutil<3.0.0,>=2.8.2->google-cloud-bigquery!=3.20.0,<4.0.0,>=1.15.0->google-cloud-aiplatform) (1.17.0)\n",
            "Requirement already satisfied: anyio<5.0.0,>=4.8.0 in /usr/local/lib/python3.11/dist-packages (from google-genai<2.0.0,>=1.0.0->google-cloud-aiplatform) (4.9.0)\n",
            "Requirement already satisfied: httpx<1.0.0,>=0.28.1 in /usr/local/lib/python3.11/dist-packages (from google-genai<2.0.0,>=1.0.0->google-cloud-aiplatform) (0.28.1)\n",
            "Requirement already satisfied: tenacity<9.0.0,>=8.2.3 in /usr/local/lib/python3.11/dist-packages (from google-genai<2.0.0,>=1.0.0->google-cloud-aiplatform) (8.5.0)\n",
            "Requirement already satisfied: websockets<15.1.0,>=13.0.0 in /usr/local/lib/python3.11/dist-packages (from google-genai<2.0.0,>=1.0.0->google-cloud-aiplatform) (15.0.1)\n",
            "Requirement already satisfied: sniffio>=1.1 in /usr/local/lib/python3.11/dist-packages (from anyio<5.0.0,>=4.8.0->google-genai<2.0.0,>=1.0.0->google-cloud-aiplatform) (1.3.1)\n",
            "Requirement already satisfied: httpcore==1.* in /usr/local/lib/python3.11/dist-packages (from httpx<1.0.0,>=0.28.1->google-genai<2.0.0,>=1.0.0->google-cloud-aiplatform) (1.0.9)\n",
            "Requirement already satisfied: h11>=0.16 in /usr/local/lib/python3.11/dist-packages (from httpcore==1.*->httpx<1.0.0,>=0.28.1->google-genai<2.0.0,>=1.0.0->google-cloud-aiplatform) (0.16.0)\n",
            "Downloading vertexai-1.71.1-py3-none-any.whl (7.3 kB)\n",
            "Downloading google_cloud_aiplatform-1.71.1-py2.py3-none-any.whl (6.2 MB)\n",
            "\u001b[2K   \u001b[90m━━━━━━━━━━━━━━━━━━━━━━━━━━━━━━━━━━━━━━━━\u001b[0m \u001b[32m6.2/6.2 MB\u001b[0m \u001b[31m45.0 MB/s\u001b[0m eta \u001b[36m0:00:00\u001b[0m\n",
            "\u001b[?25hInstalling collected packages: google-cloud-aiplatform, vertexai\n",
            "  Attempting uninstall: google-cloud-aiplatform\n",
            "    Found existing installation: google-cloud-aiplatform 1.102.0\n",
            "    Uninstalling google-cloud-aiplatform-1.102.0:\n",
            "      Successfully uninstalled google-cloud-aiplatform-1.102.0\n",
            "Successfully installed google-cloud-aiplatform-1.71.1 vertexai-1.71.1\n"
          ]
        },
        {
          "output_type": "display_data",
          "data": {
            "application/vnd.colab-display-data+json": {
              "pip_warning": {
                "packages": [
                  "google"
                ]
              },
              "id": "e3dac26d42b84e33b4fcedab4159461d"
            }
          },
          "metadata": {}
        }
      ],
      "source": [
        "# Install required packages\n",
        "!pip install google-cloud-aiplatform requests vertexai"
      ]
    },
    {
      "cell_type": "markdown",
      "metadata": {
        "id": "jaW5lpZmOkkP"
      },
      "source": [
        "## 2. Import Libraries"
      ]
    },
    {
      "cell_type": "code",
      "execution_count": 2,
      "metadata": {
        "colab": {
          "base_uri": "https://localhost:8080/"
        },
        "id": "LHpCzwCSOkkP",
        "outputId": "74f5ec67-fc20-47b9-b38d-0c51722207c2"
      },
      "outputs": [
        {
          "output_type": "stream",
          "name": "stdout",
          "text": [
            "Libraries imported successfully!\n"
          ]
        }
      ],
      "source": [
        "import requests\n",
        "import json\n",
        "import random\n",
        "import vertexai\n",
        "from vertexai.generative_models import GenerativeModel\n",
        "from google.colab import drive\n",
        "from google.oauth2.service_account import Credentials\n",
        "import time\n",
        "\n",
        "print(\"Libraries imported successfully!\")"
      ]
    },
    {
      "cell_type": "markdown",
      "metadata": {
        "id": "N-0271Q_OkkP"
      },
      "source": [
        "## 3. Mount Google Drive"
      ]
    },
    {
      "cell_type": "code",
      "execution_count": 4,
      "metadata": {
        "colab": {
          "base_uri": "https://localhost:8080/"
        },
        "id": "6DrjF_JBOkkP",
        "outputId": "3a041663-1c5c-4eeb-c476-5715ba1da4d9"
      },
      "outputs": [
        {
          "output_type": "stream",
          "name": "stdout",
          "text": [
            "Mounted at /content/drive\n"
          ]
        }
      ],
      "source": [
        "# Mount Google Drive to access credentials\n",
        "drive.mount('/content/drive')"
      ]
    },
    {
      "cell_type": "markdown",
      "metadata": {
        "id": "a9Qg9c5gOkkQ"
      },
      "source": [
        "## 4. Configuration"
      ]
    },
    {
      "cell_type": "code",
      "execution_count": 15,
      "metadata": {
        "colab": {
          "base_uri": "https://localhost:8080/"
        },
        "id": "EV0mEo-lOkkQ",
        "outputId": "c5a1bca6-e5b2-4fe2-f8c1-1cf6ed557a0f"
      },
      "outputs": [
        {
          "output_type": "stream",
          "name": "stdout",
          "text": [
            "Configuration loaded. Please update your credentials above!\n"
          ]
        }
      ],
      "source": [
        "# ServiceNow credentials - UPDATE THESE\n",
        "SERVICENOW_USER = ''  # Your ServiceNow username\n",
        "SERVICENOW_PASSWORD = ''  # Your ServiceNow password\n",
        "SERVICENOW_URL = 'https://your-servicenow-url.com'  # Your ServiceNow instance URL\n",
        "\n",
        "# GCP settings - UPDATE THESE\n",
        "GCP_PROJECT_ID = ''  # Your GCP Project ID\n",
        "GCP_REGION = 'us-central1'  # GCP region\n",
        "\n",
        "print(\"Configuration loaded. Please update your credentials above!\")"
      ]
    },
    {
      "cell_type": "markdown",
      "metadata": {
        "id": "lUJp3YjfOkkQ"
      },
      "source": [
        "## 5. Load Google Cloud Credentials"
      ]
    },
    {
      "cell_type": "code",
      "execution_count": 7,
      "metadata": {
        "colab": {
          "base_uri": "https://localhost:8080/"
        },
        "id": "o9cnG-66OkkQ",
        "outputId": "f976a5a7-044a-4a34-965f-9a83ef301387"
      },
      "outputs": [
        {
          "output_type": "stream",
          "name": "stdout",
          "text": [
            "✅ Google credentials loaded successfully!\n"
          ]
        }
      ],
      "source": [
        "# Load Google credentials from Drive\n",
        "try:\n",
        "    with open('/content/drive/MyDrive/google-creds.json') as f:\n",
        "        gcp_credentials_info = json.load(f)\n",
        "\n",
        "    gcp_credentials = Credentials.from_service_account_info(\n",
        "        gcp_credentials_info,\n",
        "        scopes=['https://www.googleapis.com/auth/cloud-platform']\n",
        "    )\n",
        "    print(\"✅ Google credentials loaded successfully!\")\n",
        "\n",
        "except FileNotFoundError:\n",
        "    print(\"❌ google-creds.json not found. Please upload to Google Drive.\")\n",
        "except Exception as e:\n",
        "    print(f\"❌ Error loading credentials: {e}\")"
      ]
    },
    {
      "cell_type": "markdown",
      "metadata": {
        "id": "W937JSnZOkkR"
      },
      "source": [
        "## 6. Get Existing Tickets (Optional)"
      ]
    },
    {
      "cell_type": "code",
      "execution_count": 8,
      "metadata": {
        "id": "p8AmDBaTOkkR"
      },
      "outputs": [],
      "source": [
        "def get_tickets():\n",
        "    \"\"\"Get existing tickets from ServiceNow\"\"\"\n",
        "    url = f'{SERVICENOW_URL}/api/now/table/incident'\n",
        "\n",
        "    params = {\n",
        "        'sysparm_display_value': 'true',\n",
        "        'sysparm_exclude_reference_link': 'true',\n",
        "        'sysparm_limit': '10'\n",
        "    }\n",
        "\n",
        "    try:\n",
        "        response = requests.get(url, params=params, auth=(SERVICENOW_USER, SERVICENOW_PASSWORD))\n",
        "\n",
        "        if response.status_code == 200:\n",
        "            tickets = response.json().get('result', [])\n",
        "            print(f\"✅ Found {len(tickets)} existing tickets\")\n",
        "            return tickets\n",
        "        else:\n",
        "            print(f\"❌ Failed to get tickets: {response.status_code}\")\n",
        "            return None\n",
        "    except Exception as e:\n",
        "        print(f\"❌ Error: {e}\")\n",
        "        return None\n"
      ]
    },
    {
      "cell_type": "code",
      "source": [
        "# Test connection (uncomment to run)\n",
        "tickets = get_tickets()"
      ],
      "metadata": {
        "colab": {
          "base_uri": "https://localhost:8080/"
        },
        "id": "2n1r6ZrsPi66",
        "outputId": "3ed7e9e8-7d0b-4d5c-d0cc-53c4f8fe9914"
      },
      "execution_count": 9,
      "outputs": [
        {
          "output_type": "stream",
          "name": "stdout",
          "text": [
            "✅ Found 10 existing tickets\n"
          ]
        }
      ]
    },
    {
      "cell_type": "markdown",
      "metadata": {
        "id": "TfpQUa42OkkR"
      },
      "source": [
        "## 7. Initialize Vertex AI"
      ]
    },
    {
      "cell_type": "code",
      "execution_count": 10,
      "metadata": {
        "colab": {
          "base_uri": "https://localhost:8080/"
        },
        "id": "Ihr7RgleOkkR",
        "outputId": "03a13c23-408e-4b42-f56c-ee6cf27ec882"
      },
      "outputs": [
        {
          "output_type": "stream",
          "name": "stdout",
          "text": [
            "✅ Vertex AI initialized successfully!\n"
          ]
        },
        {
          "output_type": "execute_result",
          "data": {
            "text/plain": [
              "True"
            ]
          },
          "metadata": {},
          "execution_count": 10
        }
      ],
      "source": [
        "def initialize_vertex_ai():\n",
        "    \"\"\"Setup Vertex AI\"\"\"\n",
        "    try:\n",
        "        vertexai.init(\n",
        "            project=GCP_PROJECT_ID,\n",
        "            location=GCP_REGION,\n",
        "            credentials=gcp_credentials\n",
        "        )\n",
        "        print(\"✅ Vertex AI initialized successfully!\")\n",
        "        return True\n",
        "    except Exception as e:\n",
        "        print(f\"❌ Error initializing Vertex AI: {e}\")\n",
        "        return False\n",
        "\n",
        "# Initialize Vertex AI\n",
        "initialize_vertex_ai()"
      ]
    },
    {
      "cell_type": "markdown",
      "metadata": {
        "id": "Sh2EhAQKOkkR"
      },
      "source": [
        "## 8. Create Incident Tickets\n",
        "Adjust the prompt and the required fields accordingly. Check the rest api explorer on SNOW to better understand what or what not to pass"
      ]
    },
    {
      "cell_type": "code",
      "execution_count": 11,
      "metadata": {
        "colab": {
          "base_uri": "https://localhost:8080/"
        },
        "id": "MYeToFfhOkkS",
        "outputId": "c29a5d8a-136d-42ba-d151-af0e562398a4"
      },
      "outputs": [
        {
          "output_type": "stream",
          "name": "stdout",
          "text": [
            "Ticket creation function defined!\n"
          ]
        }
      ],
      "source": [
        "def create_ticket():\n",
        "    \"\"\"Generate and create a ServiceNow ticket using AI\"\"\"\n",
        "\n",
        "    # Initialize Gemini model\n",
        "    model = GenerativeModel(\"gemini-2.0-flash\")\n",
        "\n",
        "    # AI prompt for generating incident data\n",
        "    prompt = \"\"\"Generate a JSON object with:\n",
        "\n",
        "'impact': random from ['1', '2', '3']\n",
        "'urgency': random from ['1', '2', '3']\n",
        "'description': detailed AWS service issue (EC2, Lambda, S3, RDS, DynamoDB, etc.)\n",
        "'short_description': brief version under 100 characters\n",
        "\n",
        "Example:\n",
        "{\n",
        "    \"impact\": \"2\",\n",
        "    \"urgency\": \"1\",\n",
        "    \"short_description\": \"EC2 instance down in production\",\n",
        "    \"description\": \"Production EC2 instance is unresponsive. SSH connections failing and health checks show failed status. Customer applications are affected. Need immediate investigation.\"\n",
        "}\n",
        "\n",
        "Return only JSON, no extra text.\"\"\"\n",
        "\n",
        "    try:\n",
        "        # Generate with AI\n",
        "        response = model.generate_content(prompt)\n",
        "        result = response.text\n",
        "\n",
        "        # Extract JSON\n",
        "        start = result.find('{')\n",
        "        end = result.rfind('}') + 1\n",
        "        json_content = result[start:end]\n",
        "\n",
        "        # Parse JSON\n",
        "        data = json.loads(json_content)\n",
        "\n",
        "        # Add ServiceNow fields\n",
        "        subcategories = [\n",
        "            \"EC2 Issues\", \"Lambda Errors\", \"S3 Problems\",\n",
        "            \"RDS Issues\", \"API Gateway\", \"CloudWatch\",\n",
        "            \"DynamoDB Performance\", \"EKS Cluster\", \"Auto Scaling\"\n",
        "        ]\n",
        "\n",
        "        data.update({\n",
        "            \"company\": \"Your Company\",\n",
        "            \"caller_id\": \"Service Account\",\n",
        "            \"category\": \"\",\n",
        "            \"subcategory\": \"\",\n",
        "            \"business_service\": \"AWS Services\",\n",
        "            \"assignment_group\": \"Cloud Team\",\n",
        "            \"cmdb_ci\": \"AWS Production Environment\"\n",
        "        })\n",
        "\n",
        "        # Create ticket in ServiceNow\n",
        "        url = f'{SERVICENOW_URL}/api/now/table/incident'\n",
        "        headers = {\"Content-Type\": \"application/json\", \"Accept\": \"application/json\"}\n",
        "\n",
        "        response = requests.post(\n",
        "            url,\n",
        "            auth=(SERVICENOW_USER, SERVICENOW_PASSWORD),\n",
        "            headers=headers,\n",
        "            json=data\n",
        "        )\n",
        "\n",
        "        if response.status_code == 201:\n",
        "            ticket_number = response.json()['result'].get('number', 'Unknown')\n",
        "            print(f\"✅ Created ticket {ticket_number}\")\n",
        "            print(f\"📋 Issue: {data['short_description']}\")\n",
        "            print(f\"📂 Category: {data['subcategory']}\")\n",
        "            return True\n",
        "        else:\n",
        "            print(f\"❌ Failed: {response.status_code}\")\n",
        "            print(f\"Error: {response.text}\")\n",
        "            return False\n",
        "\n",
        "    except Exception as e:\n",
        "        print(f\"❌ Error: {e}\")\n",
        "        return False\n",
        "\n",
        "print(\"Ticket creation function defined!\")"
      ]
    },
    {
      "cell_type": "markdown",
      "metadata": {
        "id": "Gjeh8joVOkkS"
      },
      "source": [
        "## 9. Create Single Ticket (Test)"
      ]
    },
    {
      "cell_type": "code",
      "execution_count": 12,
      "metadata": {
        "colab": {
          "base_uri": "https://localhost:8080/"
        },
        "id": "ybmTAUzDOkkS",
        "outputId": "3ce134a3-84f0-4173-83be-d24edc2fa206"
      },
      "outputs": [
        {
          "output_type": "stream",
          "name": "stdout",
          "text": [
            "Creating single test ticket...\n",
            "✅ Created ticket INC0010077\n",
            "📋 Issue: S3 bucket read errors high\n",
            "📂 Category: \n"
          ]
        },
        {
          "output_type": "execute_result",
          "data": {
            "text/plain": [
              "True"
            ]
          },
          "metadata": {},
          "execution_count": 12
        }
      ],
      "source": [
        "# Create single ticket for testing\n",
        "print(\"Creating single test ticket...\")\n",
        "create_ticket()"
      ]
    },
    {
      "cell_type": "markdown",
      "metadata": {
        "id": "1IDNwp_wOkkS"
      },
      "source": [
        "## 10. Create Multiple Tickets (Batch)"
      ]
    },
    {
      "cell_type": "code",
      "execution_count": 13,
      "metadata": {
        "colab": {
          "base_uri": "https://localhost:8080/"
        },
        "id": "Y2MV0taIOkkS",
        "outputId": "9f36facf-93de-4fdf-887a-994be6a70c2c"
      },
      "outputs": [
        {
          "output_type": "stream",
          "name": "stdout",
          "text": [
            "Creating multiple tickets...\n",
            "==================================================\n",
            "\n",
            "🎫 Ticket 1/2:\n",
            "✅ Created ticket INC0010078\n",
            "📋 Issue: S3 bucket read errors impacting users\n",
            "📂 Category: \n",
            "⏳ Waiting 3 seconds...\n",
            "\n",
            "🎫 Ticket 2/2:\n",
            "✅ Created ticket INC0010079\n",
            "📋 Issue: Lambda function failing due to timeout\n",
            "📂 Category: \n",
            "\n",
            "==================================================\n",
            "📊 SUMMARY: Created 2/2 tickets successfully\n",
            "📈 Success Rate: 100.0%\n"
          ]
        }
      ],
      "source": [
        "# Create multiple tickets\n",
        "print(\"Creating multiple tickets...\")\n",
        "print(\"=\" * 50)\n",
        "\n",
        "success_count = 0\n",
        "total_tickets = 2  # Change this number as needed\n",
        "\n",
        "for i in range(total_tickets):\n",
        "    print(f\"\\n🎫 Ticket {i+1}/{total_tickets}:\")\n",
        "\n",
        "    if create_ticket():\n",
        "        success_count += 1\n",
        "\n",
        "    # Wait between requests to avoid rate limiting\n",
        "    if i < total_tickets - 1:\n",
        "        print(\"⏳ Waiting 3 seconds...\")\n",
        "        time.sleep(3)\n",
        "\n",
        "print(\"\\n\" + \"=\" * 50)\n",
        "print(f\"📊 SUMMARY: Created {success_count}/{total_tickets} tickets successfully\")\n",
        "print(f\"📈 Success Rate: {(success_count/total_tickets)*100:.1f}%\")"
      ]
    },
    {
      "cell_type": "markdown",
      "metadata": {
        "id": "YkYyqehIOkkT"
      },
      "source": [
        "## 11. Quick Connection Test"
      ]
    },
    {
      "cell_type": "code",
      "execution_count": 14,
      "metadata": {
        "colab": {
          "base_uri": "https://localhost:8080/"
        },
        "id": "CTfOnb3XOkkT",
        "outputId": "6ffe5620-636a-40d2-c967-d3e003405e1d"
      },
      "outputs": [
        {
          "output_type": "stream",
          "name": "stdout",
          "text": [
            "🔍 Testing ServiceNow connection...\n",
            "✅ Found 10 existing tickets\n",
            "\n",
            "🔍 Testing Vertex AI...\n",
            "✅ Vertex AI working: Hello! How can I help you today?\n",
            "...\n",
            "\n",
            "🔍 Testing ticket creation...\n",
            "✅ Created ticket INC0010080\n",
            "📋 Issue: S3 bucket write errors reported\n",
            "📂 Category: \n"
          ]
        },
        {
          "output_type": "execute_result",
          "data": {
            "text/plain": [
              "True"
            ]
          },
          "metadata": {},
          "execution_count": 14
        }
      ],
      "source": [
        "# Test all connections quickly\n",
        "print(\"🔍 Testing ServiceNow connection...\")\n",
        "test_tickets = get_tickets()\n",
        "\n",
        "print(\"\\n🔍 Testing Vertex AI...\")\n",
        "try:\n",
        "    test_model = GenerativeModel(\"gemini-2.0-flash\")\n",
        "    test_response = test_model.generate_content(\"Say hello\")\n",
        "    print(f\"✅ Vertex AI working: {test_response.text[:50]}...\")\n",
        "except Exception as e:\n",
        "    print(f\"❌ Vertex AI error: {e}\")\n",
        "\n",
        "print(\"\\n🔍 Testing ticket creation...\")\n",
        "create_ticket()"
      ]
    },
    {
      "cell_type": "markdown",
      "metadata": {
        "id": "-JGliOMtOkkT"
      },
      "source": [
        "## Configuration Checklist\n",
        "\n",
        "Before running:\n",
        "- [ ] Update ServiceNow credentials in cell 4\n",
        "- [ ] Update GCP Project ID in cell 4\n",
        "- [ ] Upload google-creds.json to Google Drive\n",
        "- [ ] Run cells 1-7 to setup\n",
        "- [ ] Test with cell 9 (single ticket)\n",
        "- [ ] Run cell 10 for batch creation\n",
        "\n",
        "## Usage Notes\n",
        "\n",
        "- Change `total_tickets` variable in cell 10 to create more/fewer tickets\n",
        "- Modify subcategories in cell 8 to match your organization\n",
        "- Adjust the AI prompt in cell 8 for different incident types\n",
        "- Use cell 11 to quickly test all connections"
      ]
    }
  ],
  "metadata": {
    "kernelspec": {
      "display_name": "Python 3",
      "language": "python",
      "name": "python3"
    },
    "language_info": {
      "codemirror_mode": {
        "name": "ipython",
        "version": 3
      },
      "file_extension": ".py",
      "mimetype": "text/x-python",
      "name": "python",
      "nbconvert_exporter": "python",
      "pygments_lexer": "ipython3",
      "version": "3.8.5"
    },
    "colab": {
      "provenance": [],
      "include_colab_link": true
    }
  },
  "nbformat": 4,
  "nbformat_minor": 0
}